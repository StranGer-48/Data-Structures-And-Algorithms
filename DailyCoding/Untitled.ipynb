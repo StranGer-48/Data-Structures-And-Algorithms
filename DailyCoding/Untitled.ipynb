{
 "cells": [
  {
   "cell_type": "code",
   "execution_count": 47,
   "id": "collaborative-diploma",
   "metadata": {},
   "outputs": [],
   "source": [
    "a = [10,15,3,7]"
   ]
  },
  {
   "cell_type": "code",
   "execution_count": 83,
   "id": "loose-walnut",
   "metadata": {},
   "outputs": [],
   "source": [
    "def function001(a, k):\n",
    "    a.sort()\n",
    "    l = 0\n",
    "    r = len(a) - 1\n",
    "    while l < r:\n",
    "        if (a[l] + a[r] > k):\n",
    "            r -= 1\n",
    "        elif a[l] + a[r] < k:\n",
    "            l += 1\n",
    "        else:\n",
    "            return 1\n",
    "    return 0"
   ]
  },
  {
   "cell_type": "code",
   "execution_count": 109,
   "id": "ordered-supplement",
   "metadata": {},
   "outputs": [
    {
     "name": "stdout",
     "output_type": "stream",
     "text": [
      "[120, 60, 40, 30, 24]\n"
     ]
    }
   ],
   "source": [
    "a = [1,2,3,4,5]\n",
    "\n",
    "def function002(a):\n",
    "    temp = 1\n",
    "    for i in range(len(a)):\n",
    "        temp = temp*a[i]\n",
    "    result = [temp] * len(a)\n",
    "    for i in range(len(a)):\n",
    "        result[i] = result[i] // a[i]\n",
    "    return result\n",
    "\n",
    "print(function002(a))"
   ]
  },
  {
   "cell_type": "code",
   "execution_count": 123,
   "id": "rubber-operator",
   "metadata": {},
   "outputs": [
    {
     "name": "stdout",
     "output_type": "stream",
     "text": [
      "[49581675, 45767700, 25868700, 13221780, 10817820, 8880300]\n"
     ]
    }
   ],
   "source": [
    "a = [12,45,67,13,55,23]\n",
    "\n",
    "def function002(a):\n",
    "    res = [1]*len(a)\n",
    "    n = len(a)\n",
    "    for i in range(n):\n",
    "        res[0], res[i] = res[i], res[0]\n",
    "        res[1:] = [j * a[i] for j in res[1:]] \n",
    "    res.sort(reverse=True)\n",
    "    return res\n",
    "    \n",
    "print(function002(a))"
   ]
  },
  {
   "cell_type": "code",
   "execution_count": null,
   "id": "experienced-comment",
   "metadata": {},
   "outputs": [],
   "source": []
  }
 ],
 "metadata": {
  "kernelspec": {
   "display_name": "Python 3",
   "language": "python",
   "name": "python3"
  },
  "language_info": {
   "codemirror_mode": {
    "name": "ipython",
    "version": 3
   },
   "file_extension": ".py",
   "mimetype": "text/x-python",
   "name": "python",
   "nbconvert_exporter": "python",
   "pygments_lexer": "ipython3",
   "version": "3.8.5"
  }
 },
 "nbformat": 4,
 "nbformat_minor": 5
}
